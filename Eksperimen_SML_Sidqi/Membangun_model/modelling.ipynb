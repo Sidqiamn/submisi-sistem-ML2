{
 "cells": [
  {
   "cell_type": "code",
   "execution_count": null,
   "id": "e49dd670",
   "metadata": {},
   "outputs": [
    {
     "data": {
      "text/html": [
       "<pre style=\"white-space:pre;overflow-x:auto;line-height:normal;font-family:Menlo,'DejaVu Sans Mono',consolas,'Courier New',monospace\">Initialized MLflow to track repo <span style=\"color: #008000; text-decoration-color: #008000\">\"Sidqiamn/Eksperimen_SML_Sidqi\"</span>\n",
       "</pre>\n"
      ],
      "text/plain": [
       "Initialized MLflow to track repo \u001b[32m\"Sidqiamn/Eksperimen_SML_Sidqi\"\u001b[0m\n"
      ]
     },
     "metadata": {},
     "output_type": "display_data"
    },
    {
     "data": {
      "text/html": [
       "<pre style=\"white-space:pre;overflow-x:auto;line-height:normal;font-family:Menlo,'DejaVu Sans Mono',consolas,'Courier New',monospace\">Repository Sidqiamn/Eksperimen_SML_Sidqi initialized!\n",
       "</pre>\n"
      ],
      "text/plain": [
       "Repository Sidqiamn/Eksperimen_SML_Sidqi initialized!\n"
      ]
     },
     "metadata": {},
     "output_type": "display_data"
    },
    {
     "name": "stdout",
     "output_type": "stream",
     "text": [
      "Dagshub initialization successful.\n",
      "MLFLOW_TRACKING_PASSWORD: 04e98d6a158abadac4c2c0a9fc4039a96fb728ab\n",
      "AWS_SECRET_ACCESS_KEY: 04e98d6a158abadac4c2c0a9fc4039a96fb728ab\n",
      "Autolog activated successfully.\n",
      "Kolom dalam dataset: Index(['SepalLengthCm', 'SepalWidthCm', 'PetalLengthCm', 'PetalWidthCm',\n",
      "       'Species'],\n",
      "      dtype='object')\n",
      "Cek nilai NaN di dataset:\n",
      "SepalLengthCm    0\n",
      "SepalWidthCm     0\n",
      "PetalLengthCm    0\n",
      "PetalWidthCm     0\n",
      "Species          4\n",
      "dtype: int64\n",
      "Terdapat 4 nilai NaN di kolom 'Species'.\n",
      "Baris dengan NaN di kolom 'Species' telah dihapus.\n",
      "Tidak ada nilai NaN di fitur.\n"
     ]
    },
    {
     "name": "stderr",
     "output_type": "stream",
     "text": [
      "2025/05/09 18:30:43 INFO mlflow.sklearn.utils: Logging the 5 best runs, 22 runs will be omitted.\n"
     ]
    },
    {
     "name": "stdout",
     "output_type": "stream",
     "text": [
      "🏃 View run ambitious-panda-382 at: https://dagshub.com/Sidqiamn/Eksperimen_SML_Sidqi.mlflow/#/experiments/0/runs/cd9dce6cbb054d09abd311ef10c019d7\n",
      "🧪 View experiment at: https://dagshub.com/Sidqiamn/Eksperimen_SML_Sidqi.mlflow/#/experiments/0\n",
      "🏃 View run incongruous-boar-678 at: https://dagshub.com/Sidqiamn/Eksperimen_SML_Sidqi.mlflow/#/experiments/0/runs/8bfb25d278d54097ae1634c64574e506\n",
      "🧪 View experiment at: https://dagshub.com/Sidqiamn/Eksperimen_SML_Sidqi.mlflow/#/experiments/0\n",
      "🏃 View run industrious-cow-948 at: https://dagshub.com/Sidqiamn/Eksperimen_SML_Sidqi.mlflow/#/experiments/0/runs/6814b3d69aa2481e9a116f2f75d1bd96\n",
      "🧪 View experiment at: https://dagshub.com/Sidqiamn/Eksperimen_SML_Sidqi.mlflow/#/experiments/0\n",
      "🏃 View run skittish-worm-728 at: https://dagshub.com/Sidqiamn/Eksperimen_SML_Sidqi.mlflow/#/experiments/0/runs/e15c340ee2b640959a19d1abe532e1c5\n",
      "🧪 View experiment at: https://dagshub.com/Sidqiamn/Eksperimen_SML_Sidqi.mlflow/#/experiments/0\n",
      "🏃 View run casual-bee-321 at: https://dagshub.com/Sidqiamn/Eksperimen_SML_Sidqi.mlflow/#/experiments/0/runs/d4a09d69aee04cf58e34b9411e6df063\n",
      "🧪 View experiment at: https://dagshub.com/Sidqiamn/Eksperimen_SML_Sidqi.mlflow/#/experiments/0\n",
      "Akurasi model: 0.7586206896551724\n",
      "Precision: 0.7701149425287356\n",
      "Recall: 0.7586206896551724\n",
      "\n",
      "Laporan Klasifikasi:\n",
      "               precision    recall  f1-score   support\n",
      "\n",
      "         0.0       1.00      0.89      0.94         9\n",
      "         1.0       0.67      0.73      0.70        11\n",
      "         2.0       0.67      0.67      0.67         9\n",
      "\n",
      "    accuracy                           0.76        29\n",
      "   macro avg       0.78      0.76      0.77        29\n",
      "weighted avg       0.77      0.76      0.76        29\n",
      "\n",
      "Model disimpan di models/rf_model_sidqi.joblib\n",
      "🏃 View run fearless-grouse-878 at: https://dagshub.com/Sidqiamn/Eksperimen_SML_Sidqi.mlflow/#/experiments/0/runs/d1bdf7e1c6f9441fb7e074c1648c62ee\n",
      "🧪 View experiment at: https://dagshub.com/Sidqiamn/Eksperimen_SML_Sidqi.mlflow/#/experiments/0\n"
     ]
    }
   ],
   "source": [
    "\n",
    "import pandas as pd\n",
    "import dagshub\n",
    "import mlflow\n",
    "import mlflow.sklearn\n",
    "from sklearn.model_selection import train_test_split, GridSearchCV\n",
    "from sklearn.ensemble import RandomForestClassifier\n",
    "from sklearn.metrics import accuracy_score, classification_report, precision_score, recall_score\n",
    "import joblib\n",
    "import os\n",
    "\n",
    "try:\n",
    "    dagshub.init(repo_owner='Sidqiamn', repo_name='Eksperimen_SML_Sidqi', mlflow=True)\n",
    "    print(\"Dagshub initialization successful.\")\n",
    "except Exception as e:\n",
    "    print(f\"Error initializing Dagshub: {e}\")\n",
    "    raise\n",
    "\n",
    "os.environ[\"MLFLOW_TRACKING_URI\"] = \"https://dagshub.com/Sidqiamn/Eksperimen_SML_Sidqi.mlflow\"\n",
    "os.environ[\"MLFLOW_TRACKING_USERNAME\"] = \"Sidqiamn\"\n",
    "os.environ[\"MLFLOW_TRACKING_PASSWORD\"] = os.getenv(\"MLFLOW_TRACKING_PASSWORD\", \"your-secret-access-key\")\n",
    "os.environ[\"MLFLOW_S3_ENDPOINT_URL\"] = \"https://dagshub.com/api/v1/repo-buckets/s3/Sidqiamn\"\n",
    "os.environ[\"AWS_ACCESS_KEY_ID\"] = os.getenv(\"MLFLOW_TRACKING_PUBLIC_KEY\", \"abc289b6e15d5a43a71660b390de5346f8354acc\")\n",
    "os.environ[\"AWS_SECRET_ACCESS_KEY\"] = os.getenv(\"MLFLOW_TRACKING_PASSWORD\", \"your-secret-access-key\")\n",
    "os.environ[\"AWS_DEFAULT_REGION\"] = \"us-east-1\"\n",
    "\n",
    "print(\"MLFLOW_TRACKING_PASSWORD:\", os.getenv(\"MLFLOW_TRACKING_PASSWORD\", \"Not set\"))\n",
    "print(\"AWS_SECRET_ACCESS_KEY:\", os.getenv(\"MLFLOW_TRACKING_PASSWORD\", \"Not set\"))\n",
    "\n",
    "try:\n",
    "    mlflow.sklearn.autolog()\n",
    "    print(\"Autolog activated successfully.\")\n",
    "except Exception as e:\n",
    "    print(f\"Error activating autolog: {e}\")\n",
    "    raise\n",
    "\n",
    "if not os.path.exists('models'):\n",
    "    os.makedirs('models')\n",
    "\n",
    "try:\n",
    "    data = pd.read_csv('dataset/processed/iris_processed.csv')\n",
    "    print(\"Kolom dalam dataset:\", data.columns)\n",
    "except FileNotFoundError:\n",
    "    print(\"File 'iris_processed.csv' tidak ditemukan. Pastikan file ada di direktori dataset/processed/.\")\n",
    "    raise\n",
    "\n",
    "print(\"Cek nilai NaN di dataset:\")\n",
    "print(data.isna().sum())\n",
    "\n",
    "if data['Species'].isna().sum() > 0:\n",
    "    print(f\"Terdapat {data['Species'].isna().sum()} nilai NaN di kolom 'Species'.\")\n",
    "    # Hapus baris dengan nilai NaN di kolom 'Species'\n",
    "    data = data.dropna(subset=['Species'])\n",
    "    print(\"Baris dengan NaN di kolom 'Species' telah dihapus.\")\n",
    "else:\n",
    "    print(\"Tidak ada nilai NaN di kolom 'Species'.\")\n",
    "\n",
    "if data.drop('Species', axis=1).isna().sum().sum() > 0:\n",
    "    print(\"Terdapat nilai NaN di fitur. Mengisi dengan median...\")\n",
    "    data = data.fillna(data.median(numeric_only=True))\n",
    "else:\n",
    "    print(\"Tidak ada nilai NaN di fitur.\")\n",
    "\n",
    "X = data.drop('Species', axis=1)\n",
    "y = data['Species']\n",
    "\n",
    "X_train, X_test, y_train, y_test = train_test_split(X, y, test_size=0.2, random_state=42)\n",
    "\n",
    "param_grid = {\n",
    "    'n_estimators': [50, 100, 200],\n",
    "    'max_depth': [None, 10, 20],\n",
    "    'min_samples_split': [2, 5, 10]\n",
    "}\n",
    "model = RandomForestClassifier(random_state=42)\n",
    "grid_search = GridSearchCV(model, param_grid, cv=5, scoring='accuracy', n_jobs=-1)\n",
    "\n",
    "try:\n",
    "    with mlflow.start_run() as run:\n",
    "        grid_search.fit(X_train, y_train)\n",
    "\n",
    "        best_params = grid_search.best_params_\n",
    "        for param_name, param_value in best_params.items():\n",
    "            mlflow.log_param(param_name, param_value)\n",
    "\n",
    "        y_pred = grid_search.predict(X_test)\n",
    "        accuracy = accuracy_score(y_test, y_pred)\n",
    "        precision = precision_score(y_test, y_pred, average='weighted')\n",
    "        recall = recall_score(y_test, y_pred, average='weighted')\n",
    "        report = classification_report(y_test, y_pred)\n",
    "\n",
    "\n",
    "        mlflow.log_metric(\"accuracy\", accuracy)\n",
    "        mlflow.log_metric(\"precision\", precision) \n",
    "        mlflow.log_metric(\"recall\", recall)       \n",
    "\n",
    "    \n",
    "        with open(\"classification_report.txt\", \"w\") as f:\n",
    "            f.write(report)\n",
    "        mlflow.log_artifact(\"classification_report.txt\")\n",
    "\n",
    "    \n",
    "        best_model = grid_search.best_estimator_\n",
    "        joblib.dump(best_model, 'models/rf_model_sidqi.joblib')\n",
    "        mlflow.log_artifact('models/rf_model_sidqi.joblib')\n",
    "\n",
    "        print(\"Akurasi model:\", accuracy)\n",
    "        print(\"Precision:\", precision)\n",
    "        print(\"Recall:\", recall)\n",
    "        print(\"\\nLaporan Klasifikasi:\\n\", report)\n",
    "        print(\"Model disimpan di models/rf_model_sidqi.joblib\")\n",
    "except Exception as e:\n",
    "    print(f\"Error saat menjalankan MLflow run: {e}\")\n",
    "    raise"
   ]
  }
 ],
 "metadata": {
  "kernelspec": {
   "display_name": "Python 3",
   "language": "python",
   "name": "python3"
  },
  "language_info": {
   "codemirror_mode": {
    "name": "ipython",
    "version": 3
   },
   "file_extension": ".py",
   "mimetype": "text/x-python",
   "name": "python",
   "nbconvert_exporter": "python",
   "pygments_lexer": "ipython3",
   "version": "3.13.3"
  }
 },
 "nbformat": 4,
 "nbformat_minor": 5
}
